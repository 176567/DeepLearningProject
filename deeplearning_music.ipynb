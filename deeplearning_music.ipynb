{
  "cells": [
    {
      "cell_type": "markdown",
      "metadata": {},
      "source": [
        "Download dataset"
      ]
    },
    {
      "cell_type": "code",
      "execution_count": 4,
      "metadata": {
        "id": "ESvMjnVl80Vg"
      },
      "outputs": [
        {
          "name": "stderr",
          "output_type": "stream",
          "text": [
            "c:\\Users\\Zear\\AppData\\Local\\Programs\\Python\\Python310\\lib\\site-packages\\tqdm\\auto.py:22: TqdmWarning: IProgress not found. Please update jupyter and ipywidgets. See https://ipywidgets.readthedocs.io/en/stable/user_install.html\n",
            "  from .autonotebook import tqdm as notebook_tqdm\n"
          ]
        }
      ],
      "source": [
        "import tensorflow as tf\n",
        "import tensorflow_datasets as tfds\n",
        "import numpy as np\n",
        "import matplotlib.pyplot as plt"
      ]
    },
    {
      "cell_type": "code",
      "execution_count": 6,
      "metadata": {},
      "outputs": [],
      "source": [
        "#reading in and converting it to 0,1 instead of -1 1\n",
        "Y = []\n",
        "with open(\"list_attr_celeba.txt\") as attr:\n",
        "    count = 0\n",
        "    size = next(attr)\n",
        "    labels = next(attr)\n",
        "    for line in attr:\n",
        "        line = line[11:]\n",
        "        numbers = line.split()\n",
        "        for (i, number) in enumerate(numbers):\n",
        "            if number == \"-1\":\n",
        "                numbers[i] = 0\n",
        "            elif number == \"1\":\n",
        "                numbers[i] = 1\n",
        "        Y.append(numbers)"
      ]
    },
    {
      "cell_type": "markdown",
      "metadata": {},
      "source": [
        "Couldn't download the data with code, because it timed out. So we load the downloaded data in with the image_dataset_from_directory function"
      ]
    },
    {
      "cell_type": "code",
      "execution_count": 5,
      "metadata": {},
      "outputs": [
        {
          "name": "stdout",
          "output_type": "stream",
          "text": [
            "Found 202599 files.\n"
          ]
        }
      ],
      "source": [
        "\n",
        "ds = tf.keras.utils.image_dataset_from_directory(\n",
        "    \"img_align_celeba\\\\img_align_celeba\",\n",
        "    labels = None,\n",
        "    shuffle = False,\n",
        "    batch_size = 32,\n",
        "    subset = \"both\",\n",
        "    validation_split = 0.3\n",
        "    )"
      ]
    },
    {
      "cell_type": "code",
      "execution_count": 9,
      "metadata": {},
      "outputs": [],
      "source": [
        "# Import necessary libraries\n",
        "import tensorflow as tf\n",
        "\n",
        "# Define preprocessing functions\n",
        "def preprocess_image(image):\n",
        "    # Convert image to float32 and normalize pixel values\n",
        "    image = tf.cast(image, tf.float32) / 255.0\n",
        "    \n",
        "\n",
        "    return image\n",
        "\n",
        "def preprocess_data(image):\n",
        "    # Preprocess the image\n",
        "    preprocessed_image = preprocess_image(image)\n",
        "    \n",
        "    return preprocessed_image\n",
        "\n",
        "# Apply preprocessing to the dataset\n",
        "X = ds.map(preprocess_data)\n"
      ]
    },
    {
      "cell_type": "markdown",
      "metadata": {},
      "source": []
    },
    {
      "cell_type": "code",
      "execution_count": null,
      "metadata": {},
      "outputs": [],
      "source": [
        "#does not work because an np array with all the picutres is too large, can't fit in memory\n",
        "\"\"\"\n",
        "import cv2\n",
        "import numpy as np\n",
        "import os\n",
        "\n",
        "def load_images_to_array(directory):\n",
        "  images = []\n",
        "  for filename in os.listdir(directory):\n",
        "    # Check if it's an image file\n",
        "    if filename.endswith(\".png\"):\n",
        "      path = os.path.join(directory, filename)\n",
        "      image = cv2.imread(path)\n",
        "      if image is not None:\n",
        "        images.append(image)\n",
        "  # Stack the images along a new axis at index 0\n",
        "  image_array = np.stack(images, axis=0)\n",
        "  return image_array\n",
        "\n",
        "# Example usage\n",
        "image_dir = \"img_align_celeba\\\\img_align_celeba\"\n",
        "images_array = load_images_to_array(image_dir)\n",
        "\n",
        "print(images_array.shape)  # Output: (num_images, image_height, image_width, channels)\n",
        "\"\"\""
      ]
    }
  ],
  "metadata": {
    "colab": {
      "provenance": []
    },
    "kernelspec": {
      "display_name": "Python 3",
      "name": "python3"
    },
    "language_info": {
      "codemirror_mode": {
        "name": "ipython",
        "version": 3
      },
      "file_extension": ".py",
      "mimetype": "text/x-python",
      "name": "python",
      "nbconvert_exporter": "python",
      "pygments_lexer": "ipython3",
      "version": "3.10.4"
    }
  },
  "nbformat": 4,
  "nbformat_minor": 0
}
